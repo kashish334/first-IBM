{
 "cells": [
  {
   "cell_type": "markdown",
   "id": "f0e939ed-7b2b-4a40-be5b-2e606c61d212",
   "metadata": {},
   "source": [
    "# Data Science Tools and Ecosystem"
   ]
  },
  {
   "cell_type": "markdown",
   "id": "0314c90c-4a5b-4dd0-8f90-08bb5189b390",
   "metadata": {},
   "source": [
    "## In this notebook, Data Science Tools and Ecosystem are summarized."
   ]
  },
  {
   "cell_type": "markdown",
   "id": "efa896f7-15b2-4225-ae8a-ea25f7cdc1e4",
   "metadata": {},
   "source": [
    "**Objectives**\n",
    "- List popular languages for Data Science.\n",
    "- List commonly used libraries used by data scientists.\n",
    "- Table of data science tools\n",
    "- arithmatic examples"
   ]
  },
  {
   "cell_type": "markdown",
   "id": "fb42528f-9aa7-4e54-8344-ca84e35c8a67",
   "metadata": {},
   "source": [
    "### Some of the popular languages that Data Scientists use are:\n",
    "1. python\n",
    "2. R\n",
    "3. SQL"
   ]
  },
  {
   "cell_type": "markdown",
   "id": "bdc82def-8047-406c-92ef-3b3f53fe5bae",
   "metadata": {},
   "source": [
    "### Some of the commonly used libraries used by Data Scientists include:\n",
    "1. matplotlib\n",
    "2. pandas\n",
    "3. scikit learn"
   ]
  },
  {
   "cell_type": "markdown",
   "id": "56860cda-4808-48bf-ac4f-6263bb5ef961",
   "metadata": {},
   "source": [
    "### data science tools\n",
    "|tools|\n",
    "|-----|\n",
    "|apache spark|\n",
    "|hadoop|\n",
    "|MySQL|\n",
    "|"
   ]
  },
  {
   "cell_type": "markdown",
   "id": "d029c825-7582-47c2-9329-2ada0ecde4eb",
   "metadata": {},
   "source": [
    "### Below are a few examples of evaluating arithmetic expressions in Python.\n"
   ]
  },
  {
   "cell_type": "code",
   "execution_count": 44,
   "id": "e60443c8-852e-4ba1-afed-2d174a81bbc7",
   "metadata": {},
   "outputs": [
    {
     "data": {
      "text/plain": [
       "17"
      ]
     },
     "execution_count": 44,
     "metadata": {},
     "output_type": "execute_result"
    }
   ],
   "source": [
    "# This a simple arithmetic expression to mutiply then add integers.\n",
    "(3*4)+5"
   ]
  },
  {
   "cell_type": "code",
   "execution_count": 45,
   "id": "36f3ccd9-09aa-4b64-9de8-a27e13f0e39b",
   "metadata": {},
   "outputs": [
    {
     "name": "stdout",
     "output_type": "stream",
     "text": [
      "200 minutes = 3.3333333333333335 hrs\n"
     ]
    }
   ],
   "source": [
    "# this will convert 200 minutes to hours by diving by 60.\n",
    "minutes=200\n",
    "hrs=(minutes/60)\n",
    "print(f\"{minutes} minutes = {hrs} hrs\")"
   ]
  },
  {
   "cell_type": "markdown",
   "id": "51e5b935-b7d9-4444-aac8-e1060a910f73",
   "metadata": {},
   "source": [
    "## Author\n",
    "Kashish Patel"
   ]
  },
  {
   "cell_type": "markdown",
   "id": "b02bba12-187b-402c-8e82-1f9d8e14d401",
   "metadata": {},
   "source": [
    "## github repository link:\n",
    "https://github.com/kashish334/first-IBM.git"
   ]
  },
  {
   "cell_type": "code",
   "execution_count": null,
   "id": "162349a4-1572-4a49-a0e6-10104e5538a0",
   "metadata": {},
   "outputs": [],
   "source": []
  }
 ],
 "metadata": {
  "kernelspec": {
   "display_name": "Python [conda env:base] *",
   "language": "python",
   "name": "conda-base-py"
  },
  "language_info": {
   "codemirror_mode": {
    "name": "ipython",
    "version": 3
   },
   "file_extension": ".py",
   "mimetype": "text/x-python",
   "name": "python",
   "nbconvert_exporter": "python",
   "pygments_lexer": "ipython3",
   "version": "3.12.7"
  }
 },
 "nbformat": 4,
 "nbformat_minor": 5
}
